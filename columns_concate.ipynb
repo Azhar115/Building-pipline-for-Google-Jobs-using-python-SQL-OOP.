{
 "cells": [
  {
   "cell_type": "code",
   "execution_count": 1,
   "metadata": {},
   "outputs": [],
   "source": [
    "import pandas as pd"
   ]
  },
  {
   "cell_type": "code",
   "execution_count": 11,
   "metadata": {},
   "outputs": [],
   "source": [
    "df = pd.read_csv(\"google_jobs_columns_data_type.csv\")"
   ]
  },
  {
   "cell_type": "code",
   "execution_count": 12,
   "metadata": {},
   "outputs": [
    {
     "data": {
      "text/plain": [
       "'search_metadata_id,search_metadata_status,search_metadata_json_endpoint,search_metadata_created_at,search_metadata_processed_at,search_metadata_google_jobs_url,search_metadata_raw_html_file,search_parameters_q,search_parameters_engine,search_parameters_google_domain,search_parameters_hl,serpapi_pagination_next_page_token,serpapi_pagination_next,filters_name,filters_link,filters_serpapi_link,filters_parameters_uds,filters_parameters_q,jobs_results_title,jobs_results_company_name,jobs_results_location,jobs_results_via,jobs_results_share_link,jobs_results_extensions,jobs_results_description,jobs_results_job_id,jobs_results_detected_extensions_posted_at,jobs_results_detected_extensions_schedule_type,jobs_results_detected_extensions_qualifications,jobs_results_thumbnail,jobs_results_detected_extensions_salary,filters_options_name,filters_options_link,filters_options_serpapi_link,filters_options_parameters_uds,filters_options_parameters_q,jobs_results_job_highlights_title,jobs_results_job_highlights_items,jobs_results_apply_options_title,jobs_results_apply_options_link'"
      ]
     },
     "execution_count": 12,
     "metadata": {},
     "output_type": "execute_result"
    }
   ],
   "source": [
    "result_str = ','.join(df[\"column_name\"].tolist())\n",
    "result_str"
   ]
  },
  {
   "cell_type": "code",
   "execution_count": 43,
   "metadata": {},
   "outputs": [],
   "source": [
    "import json\n",
    "with open(\"google_jobs.json\", \"r\") as read_js:\n",
    "    json_file = json.load(read_js)\n",
    "df1 = pd.json_normalize(json_file[0])\n",
    "df2 = pd.json_normalize(json_file[3])"
   ]
  },
  {
   "cell_type": "code",
   "execution_count": 44,
   "metadata": {},
   "outputs": [
    {
     "data": {
      "text/html": [
       "<div>\n",
       "<style scoped>\n",
       "    .dataframe tbody tr th:only-of-type {\n",
       "        vertical-align: middle;\n",
       "    }\n",
       "\n",
       "    .dataframe tbody tr th {\n",
       "        vertical-align: top;\n",
       "    }\n",
       "\n",
       "    .dataframe thead th {\n",
       "        text-align: right;\n",
       "    }\n",
       "</style>\n",
       "<table border=\"1\" class=\"dataframe\">\n",
       "  <thead>\n",
       "    <tr style=\"text-align: right;\">\n",
       "      <th></th>\n",
       "      <th>filters</th>\n",
       "      <th>jobs_results</th>\n",
       "      <th>search_metadata.id</th>\n",
       "      <th>search_metadata.status</th>\n",
       "      <th>search_metadata.json_endpoint</th>\n",
       "      <th>search_metadata.created_at</th>\n",
       "      <th>search_metadata.processed_at</th>\n",
       "      <th>search_metadata.google_jobs_url</th>\n",
       "      <th>search_metadata.raw_html_file</th>\n",
       "      <th>search_metadata.total_time_taken</th>\n",
       "      <th>search_parameters.q</th>\n",
       "      <th>search_parameters.engine</th>\n",
       "      <th>search_parameters.google_domain</th>\n",
       "      <th>search_parameters.hl</th>\n",
       "      <th>serpapi_pagination.next_page_token</th>\n",
       "      <th>serpapi_pagination.next</th>\n",
       "    </tr>\n",
       "  </thead>\n",
       "  <tbody>\n",
       "    <tr>\n",
       "      <th>0</th>\n",
       "      <td>[{'name': 'Remote', 'parameters': {'uds': 'ADv...</td>\n",
       "      <td>[{'title': 'Barista - New York', 'company_name...</td>\n",
       "      <td>6716280bf59d00118e3b5e73</td>\n",
       "      <td>Success</td>\n",
       "      <td>https://serpapi.com/searches/550fc18895b49015/...</td>\n",
       "      <td>2024-10-21 10:08:11 UTC</td>\n",
       "      <td>2024-10-21 10:08:11 UTC</td>\n",
       "      <td>https://www.google.com/search?q=barista+new+yo...</td>\n",
       "      <td>https://serpapi.com/searches/550fc18895b49015/...</td>\n",
       "      <td>0.47</td>\n",
       "      <td>barista new york</td>\n",
       "      <td>google_jobs</td>\n",
       "      <td>google.com</td>\n",
       "      <td>en</td>\n",
       "      <td>eyJmYyI6IkVxSURDdUlDUVVwSE9VcHJVR0l5VmpjNU1qRn...</td>\n",
       "      <td>https://serpapi.com/search.json?engine=google_...</td>\n",
       "    </tr>\n",
       "  </tbody>\n",
       "</table>\n",
       "</div>"
      ],
      "text/plain": [
       "                                             filters  \\\n",
       "0  [{'name': 'Remote', 'parameters': {'uds': 'ADv...   \n",
       "\n",
       "                                        jobs_results  \\\n",
       "0  [{'title': 'Barista - New York', 'company_name...   \n",
       "\n",
       "         search_metadata.id search_metadata.status  \\\n",
       "0  6716280bf59d00118e3b5e73                Success   \n",
       "\n",
       "                       search_metadata.json_endpoint  \\\n",
       "0  https://serpapi.com/searches/550fc18895b49015/...   \n",
       "\n",
       "  search_metadata.created_at search_metadata.processed_at  \\\n",
       "0    2024-10-21 10:08:11 UTC      2024-10-21 10:08:11 UTC   \n",
       "\n",
       "                     search_metadata.google_jobs_url  \\\n",
       "0  https://www.google.com/search?q=barista+new+yo...   \n",
       "\n",
       "                       search_metadata.raw_html_file  \\\n",
       "0  https://serpapi.com/searches/550fc18895b49015/...   \n",
       "\n",
       "   search_metadata.total_time_taken search_parameters.q  \\\n",
       "0                              0.47    barista new york   \n",
       "\n",
       "  search_parameters.engine search_parameters.google_domain  \\\n",
       "0              google_jobs                      google.com   \n",
       "\n",
       "  search_parameters.hl                 serpapi_pagination.next_page_token  \\\n",
       "0                   en  eyJmYyI6IkVxSURDdUlDUVVwSE9VcHJVR0l5VmpjNU1qRn...   \n",
       "\n",
       "                             serpapi_pagination.next  \n",
       "0  https://serpapi.com/search.json?engine=google_...  "
      ]
     },
     "execution_count": 44,
     "metadata": {},
     "output_type": "execute_result"
    }
   ],
   "source": [
    "df1\n",
    "\n"
   ]
  },
  {
   "cell_type": "code",
   "execution_count": 45,
   "metadata": {},
   "outputs": [
    {
     "data": {
      "text/html": [
       "<div>\n",
       "<style scoped>\n",
       "    .dataframe tbody tr th:only-of-type {\n",
       "        vertical-align: middle;\n",
       "    }\n",
       "\n",
       "    .dataframe tbody tr th {\n",
       "        vertical-align: top;\n",
       "    }\n",
       "\n",
       "    .dataframe thead th {\n",
       "        text-align: right;\n",
       "    }\n",
       "</style>\n",
       "<table border=\"1\" class=\"dataframe\">\n",
       "  <thead>\n",
       "    <tr style=\"text-align: right;\">\n",
       "      <th></th>\n",
       "      <th>jobs_results</th>\n",
       "      <th>search_metadata.id</th>\n",
       "      <th>search_metadata.status</th>\n",
       "      <th>search_metadata.json_endpoint</th>\n",
       "      <th>search_metadata.created_at</th>\n",
       "      <th>search_metadata.processed_at</th>\n",
       "      <th>search_metadata.google_jobs_url</th>\n",
       "      <th>search_metadata.raw_html_file</th>\n",
       "      <th>search_metadata.prettify_html_file</th>\n",
       "      <th>search_metadata.total_time_taken</th>\n",
       "      <th>search_parameters.q</th>\n",
       "      <th>search_parameters.engine</th>\n",
       "      <th>search_parameters.google_domain</th>\n",
       "      <th>search_parameters.hl</th>\n",
       "      <th>search_parameters.next_page_token</th>\n",
       "      <th>serpapi_pagination.next_page_token</th>\n",
       "      <th>serpapi_pagination.next</th>\n",
       "    </tr>\n",
       "  </thead>\n",
       "  <tbody>\n",
       "    <tr>\n",
       "      <th>0</th>\n",
       "      <td>[{'title': 'Café Attendant/Barista', 'company_...</td>\n",
       "      <td>6716284b56f970dab44827c0</td>\n",
       "      <td>Success</td>\n",
       "      <td>https://serpapi.com/searches/f07e6ff930b02947/...</td>\n",
       "      <td>2024-10-21 10:09:15 UTC</td>\n",
       "      <td>2024-10-21 10:09:15 UTC</td>\n",
       "      <td>https://www.google.com/async/callback:550?q=ba...</td>\n",
       "      <td>https://serpapi.com/searches/f07e6ff930b02947/...</td>\n",
       "      <td>https://serpapi.com/searches/f07e6ff930b02947/...</td>\n",
       "      <td>1.54</td>\n",
       "      <td>barista new york</td>\n",
       "      <td>google_jobs</td>\n",
       "      <td>google.com</td>\n",
       "      <td>en</td>\n",
       "      <td>eyJmYyI6IkVxRURDdUlDUVVwSE9VcHJVRmcxVHpWR01HNH...</td>\n",
       "      <td>eyJmYyI6IkVxSURDdUlDUVVwSE9VcHJUazkyVjNCeU0zQl...</td>\n",
       "      <td>https://serpapi.com/search.json?engine=google_...</td>\n",
       "    </tr>\n",
       "  </tbody>\n",
       "</table>\n",
       "</div>"
      ],
      "text/plain": [
       "                                        jobs_results  \\\n",
       "0  [{'title': 'Café Attendant/Barista', 'company_...   \n",
       "\n",
       "         search_metadata.id search_metadata.status  \\\n",
       "0  6716284b56f970dab44827c0                Success   \n",
       "\n",
       "                       search_metadata.json_endpoint  \\\n",
       "0  https://serpapi.com/searches/f07e6ff930b02947/...   \n",
       "\n",
       "  search_metadata.created_at search_metadata.processed_at  \\\n",
       "0    2024-10-21 10:09:15 UTC      2024-10-21 10:09:15 UTC   \n",
       "\n",
       "                     search_metadata.google_jobs_url  \\\n",
       "0  https://www.google.com/async/callback:550?q=ba...   \n",
       "\n",
       "                       search_metadata.raw_html_file  \\\n",
       "0  https://serpapi.com/searches/f07e6ff930b02947/...   \n",
       "\n",
       "                  search_metadata.prettify_html_file  \\\n",
       "0  https://serpapi.com/searches/f07e6ff930b02947/...   \n",
       "\n",
       "   search_metadata.total_time_taken search_parameters.q  \\\n",
       "0                              1.54    barista new york   \n",
       "\n",
       "  search_parameters.engine search_parameters.google_domain  \\\n",
       "0              google_jobs                      google.com   \n",
       "\n",
       "  search_parameters.hl                  search_parameters.next_page_token  \\\n",
       "0                   en  eyJmYyI6IkVxRURDdUlDUVVwSE9VcHJVRmcxVHpWR01HNH...   \n",
       "\n",
       "                  serpapi_pagination.next_page_token  \\\n",
       "0  eyJmYyI6IkVxSURDdUlDUVVwSE9VcHJUazkyVjNCeU0zQl...   \n",
       "\n",
       "                             serpapi_pagination.next  \n",
       "0  https://serpapi.com/search.json?engine=google_...  "
      ]
     },
     "execution_count": 45,
     "metadata": {},
     "output_type": "execute_result"
    }
   ],
   "source": [
    "df2"
   ]
  }
 ],
 "metadata": {
  "kernelspec": {
   "display_name": "base",
   "language": "python",
   "name": "python3"
  },
  "language_info": {
   "codemirror_mode": {
    "name": "ipython",
    "version": 3
   },
   "file_extension": ".py",
   "mimetype": "text/x-python",
   "name": "python",
   "nbconvert_exporter": "python",
   "pygments_lexer": "ipython3",
   "version": "3.11.5"
  }
 },
 "nbformat": 4,
 "nbformat_minor": 2
}
