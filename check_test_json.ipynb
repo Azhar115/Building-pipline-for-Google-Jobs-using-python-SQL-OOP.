{
 "cells": [
  {
   "cell_type": "code",
   "execution_count": 2,
   "metadata": {},
   "outputs": [],
   "source": [
    "import pandas as pd\n",
    "import json "
   ]
  },
  {
   "cell_type": "code",
   "execution_count": 11,
   "metadata": {},
   "outputs": [],
   "source": [
    "with open(\"toady_call.json\", \"r\") as file:\n",
    "    data = json.load(file)"
   ]
  },
  {
   "cell_type": "code",
   "execution_count": 12,
   "metadata": {},
   "outputs": [],
   "source": [
    "with open(\"yeste_call.json\", \"r\") as file:\n",
    "    data1 = json.load(file)"
   ]
  },
  {
   "cell_type": "code",
   "execution_count": 19,
   "metadata": {},
   "outputs": [
    {
     "ename": "KeyError",
     "evalue": "'jobs_results'",
     "output_type": "error",
     "traceback": [
      "\u001b[1;31m---------------------------------------------------------------------------\u001b[0m",
      "\u001b[1;31mKeyError\u001b[0m                                  Traceback (most recent call last)",
      "Cell \u001b[1;32mIn[19], line 1\u001b[0m\n\u001b[1;32m----> 1\u001b[0m data[\u001b[38;5;124m\"\u001b[39m\u001b[38;5;124mjobs_results\u001b[39m\u001b[38;5;124m\"\u001b[39m]\n",
      "\u001b[1;31mKeyError\u001b[0m: 'jobs_results'"
     ]
    }
   ],
   "source": [
    "data[\"jobs_results\"]"
   ]
  },
  {
   "cell_type": "code",
   "execution_count": 23,
   "metadata": {},
   "outputs": [
    {
     "data": {
      "text/plain": [
       "'Success'"
      ]
     },
     "execution_count": 23,
     "metadata": {},
     "output_type": "execute_result"
    }
   ],
   "source": [
    "data1[\"search_metadata\"][\"status\"]"
   ]
  },
  {
   "cell_type": "code",
   "execution_count": 26,
   "metadata": {},
   "outputs": [],
   "source": [
    "import requests\n",
    "import json\n",
    "Api = \"https://serpapi.com/search.json?\"\n",
    "parms = {\n",
    "        \"engine\": \"google_jobs\",\n",
    "        \"q\": \"barista new york\",\n",
    "        \"hl\": \"en\",\n",
    "        \"api_key\": \"a86b4f814dea5fb23d0cf2ec06c25b298dd0cbeb24c2704a984ed80c51a380e1\",  # Consider using an environment variable for security\n",
    "    }\n",
    "\n",
    "\"\"\"Make a GET request to the API and return the JSON response.\"\"\"\n",
    "try:\n",
    "    response = requests.get(Api, params=parms)\n",
    "    \n",
    "           \n",
    "except requests.RequestException as e:\n",
    "    print(f\"API request failed: {e}\")\n",
    "            "
   ]
  },
  {
   "cell_type": "code",
   "execution_count": 27,
   "metadata": {},
   "outputs": [],
   "source": [
    "data = response.json()"
   ]
  },
  {
   "cell_type": "code",
   "execution_count": 30,
   "metadata": {},
   "outputs": [
    {
     "data": {
      "text/plain": [
       "{'id': '6720d0b0cc2987fec212b526',\n",
       " 'status': 'Success',\n",
       " 'json_endpoint': 'https://serpapi.com/searches/550fc18895b49015/6720d0b0cc2987fec212b526.json',\n",
       " 'created_at': '2024-10-29 12:10:24 UTC',\n",
       " 'processed_at': '2024-10-29 12:10:24 UTC',\n",
       " 'google_jobs_url': 'https://www.google.com/search?q=barista+new+york&hl=en&udm=8',\n",
       " 'raw_html_file': 'https://serpapi.com/searches/550fc18895b49015/6720d0b0cc2987fec212b526.html',\n",
       " 'total_time_taken': 1.03}"
      ]
     },
     "execution_count": 30,
     "metadata": {},
     "output_type": "execute_result"
    }
   ],
   "source": [
    "data[\"search_metadata\"]"
   ]
  },
  {
   "cell_type": "code",
   "execution_count": 32,
   "metadata": {},
   "outputs": [
    {
     "data": {
      "text/plain": [
       "{'q': 'barista new york',\n",
       " 'engine': 'google_jobs',\n",
       " 'google_domain': 'google.com',\n",
       " 'hl': 'en'}"
      ]
     },
     "execution_count": 32,
     "metadata": {},
     "output_type": "execute_result"
    }
   ],
   "source": [
    "data['search_parameters']"
   ]
  },
  {
   "cell_type": "code",
   "execution_count": 36,
   "metadata": {},
   "outputs": [
    {
     "data": {
      "text/plain": [
       "10"
      ]
     },
     "execution_count": 36,
     "metadata": {},
     "output_type": "execute_result"
    }
   ],
   "source": [
    "len(data[\"jobs_results\"])"
   ]
  },
  {
   "cell_type": "code",
   "execution_count": 40,
   "metadata": {},
   "outputs": [],
   "source": [
    "try:\n",
    "    data[\"jobs_results\"]\n",
    "except KeyError:\n",
    "    True\n"
   ]
  },
  {
   "cell_type": "code",
   "execution_count": 41,
   "metadata": {},
   "outputs": [
    {
     "ename": "KeyError",
     "evalue": "'error'",
     "output_type": "error",
     "traceback": [
      "\u001b[1;31m---------------------------------------------------------------------------\u001b[0m",
      "\u001b[1;31mKeyError\u001b[0m                                  Traceback (most recent call last)",
      "Cell \u001b[1;32mIn[41], line 1\u001b[0m\n\u001b[1;32m----> 1\u001b[0m data[\u001b[38;5;124m\"\u001b[39m\u001b[38;5;124merror\u001b[39m\u001b[38;5;124m\"\u001b[39m]\n",
      "\u001b[1;31mKeyError\u001b[0m: 'error'"
     ]
    }
   ],
   "source": [
    "data[\"error\"]"
   ]
  },
  {
   "cell_type": "code",
   "execution_count": 50,
   "metadata": {},
   "outputs": [],
   "source": [
    "job_ids = [job[\"job_id\"]  for job in data[\"jobs_results\"]]"
   ]
  },
  {
   "cell_type": "code",
   "execution_count": 51,
   "metadata": {},
   "outputs": [
    {
     "data": {
      "text/plain": [
       "['eyJqb2JfdGl0bGUiOiJCYXJpc3RhIGFuZCBDYXNoaWVyIGZvciBUSUdFUiBTVUdBUiA0NSIsImNvbXBhbnlfbmFtZSI6IlRJR0VSIFNVR0FSIFVTQSIsImFkZHJlc3NfY2l0eSI6Ik5ldyBZb3JrLCBOWSIsImh0aWRvY2lkIjoiRGc3a3FXR3o2RUZBYnFVSEFBQUFBQT09IiwiaGwiOiJlbiJ9',\n",
       " 'eyJqb2JfdGl0bGUiOiJCYXJpc3RhIC0gTllDIC0gUHJpbmNlIFN0LiIsImNvbXBhbnlfbmFtZSI6IkNob2JhbmkiLCJhZGRyZXNzX2NpdHkiOiJOZXcgWW9yaywgTlkiLCJodGlkb2NpZCI6Imp5LV9aQVM0ZXd4VkEzTjVBQUFBQUE9PSIsImhsIjoiZW4ifQ==',\n",
       " 'eyJqb2JfdGl0bGUiOiJCYXJpc3RhIiwiY29tcGFueV9uYW1lIjoiU3VnYXIgQnV0dGVyIENob2NvbGF0ZSIsImFkZHJlc3NfY2l0eSI6IkJyb29rbHluLCBOWSIsImh0aWRvY2lkIjoiNU1HSWE5MXVXcDltMjR3TEFBQUFBQT09IiwiaGwiOiJlbiJ9',\n",
       " 'eyJqb2JfdGl0bGUiOiJCYXJpc3RhIiwiY29tcGFueV9uYW1lIjoiQXJhbWFyayIsImFkZHJlc3NfY2l0eSI6Ik5ldyBZb3JrLCBOWSIsImh0aWRvY2lkIjoibFQ3VzJHRUFNN05Qa1E4YUFBQUFBQT09IiwiaGwiOiJlbiJ9',\n",
       " 'eyJqb2JfdGl0bGUiOiJCYXJpc3RhIHwgU29obyBNYW5oYXR0YW4iLCJjb21wYW55X25hbWUiOiJCbGFuayBTdHJlZXQiLCJhZGRyZXNzX2NpdHkiOiJOZXcgWW9yaywgTlkiLCJodGlkb2NpZCI6IktxQmNkUm1GZDdFbmFvclZBQUFBQUE9PSIsImhsIjoiZW4ifQ==',\n",
       " 'eyJqb2JfdGl0bGUiOiJCYXJpc3RhIiwiY29tcGFueV9uYW1lIjoiR3JlZ29yeXMgQ29mZmVlIiwiYWRkcmVzc19jaXR5IjoiQk9XTElORyBHUkVFTiwgTlkiLCJodGlkb2NpZCI6IktBU2tiNHg4NUc4Y0lnaE1BQUFBQUE9PSIsImhsIjoiZW4ifQ==',\n",
       " 'eyJqb2JfdGl0bGUiOiJCYXJpc3RhIiwiY29tcGFueV9uYW1lIjoiVGhlIE1hcmsgSG90ZWwiLCJhZGRyZXNzX2NpdHkiOiJOZXcgWW9yaywgTlkiLCJodGlkb2NpZCI6ImZ0QXI3LXBXWF9iUV9QV1VBQUFBQUE9PSIsImhsIjoiZW4ifQ==',\n",
       " 'eyJqb2JfdGl0bGUiOiJCYXJpc3RhIC0gTmV3IFlvcmsiLCJjb21wYW55X25hbWUiOiJCbHVlIEJvdHRsZSBDb2ZmZWUiLCJhZGRyZXNzX2NpdHkiOiJOZXcgWW9yaywgTlkiLCJodGlkb2NpZCI6IlZuQ2UtdGYzaXNZajQ5S3dBQUFBQUE9PSIsImhsIjoiZW4ifQ==',\n",
       " 'eyJqb2JfdGl0bGUiOiJCYXJpc3RhLCBQYXRpbmEgYXQgTUxCIiwiY29tcGFueV9uYW1lIjoiRGVsYXdhcmUgTm9ydGgiLCJhZGRyZXNzX2NpdHkiOiJOZXcgWW9yaywgTlkiLCJodGlkb2NpZCI6InRsX3F6dm83SjBoamVzSlBBQUFBQUE9PSIsImhsIjoiZW4ifQ==',\n",
       " 'eyJqb2JfdGl0bGUiOiJCYXJpc3RhIiwiY29tcGFueV9uYW1lIjoiQ2FmZSBNYWRvIiwiYWRkcmVzc19jaXR5IjoiQnJvb2tseW4sIE5ZIiwiaHRpZG9jaWQiOiI4cmJqa0pXSGFmR0J4cUFEQUFBQUFBPT0iLCJobCI6ImVuIn0=']"
      ]
     },
     "execution_count": 51,
     "metadata": {},
     "output_type": "execute_result"
    }
   ],
   "source": [
    "job_ids"
   ]
  }
 ],
 "metadata": {
  "kernelspec": {
   "display_name": "base",
   "language": "python",
   "name": "python3"
  },
  "language_info": {
   "codemirror_mode": {
    "name": "ipython",
    "version": 3
   },
   "file_extension": ".py",
   "mimetype": "text/x-python",
   "name": "python",
   "nbconvert_exporter": "python",
   "pygments_lexer": "ipython3",
   "version": "3.11.5"
  }
 },
 "nbformat": 4,
 "nbformat_minor": 2
}
